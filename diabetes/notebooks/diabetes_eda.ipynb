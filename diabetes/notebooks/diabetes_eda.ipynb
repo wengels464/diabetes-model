{
 "cells": [
  {
   "cell_type": "markdown",
   "id": "22cb7cd3",
   "metadata": {},
   "source": [
    "### All of our necessary imports go here, with optional aliases."
   ]
  },
  {
   "cell_type": "code",
   "execution_count": 69,
   "id": "a2971844",
   "metadata": {},
   "outputs": [],
   "source": [
    "import pandas as pd\n",
    "import numpy as np"
   ]
  },
  {
   "cell_type": "markdown",
   "id": "5732cb54",
   "metadata": {},
   "source": [
    "### Local variables can be defined here."
   ]
  },
  {
   "cell_type": "code",
   "execution_count": 70,
   "id": "11408153",
   "metadata": {},
   "outputs": [],
   "source": [
    "path_to_data: str = '../data/raw/diabetes.csv'"
   ]
  },
  {
   "cell_type": "markdown",
   "id": "0e79d407",
   "metadata": {},
   "source": [
    "### Functions defined here."
   ]
  },
  {
   "cell_type": "code",
   "execution_count": 71,
   "id": "463c6204",
   "metadata": {},
   "outputs": [],
   "source": [
    "def get_data(path_to_data):\n",
    "    \"\"\"Docstring\"\"\"\n",
    "    \n",
    "    df = pd.read_csv(path_to_data)\n",
    "    return df"
   ]
  },
  {
   "cell_type": "code",
   "execution_count": 72,
   "id": "9294425c",
   "metadata": {},
   "outputs": [],
   "source": [
    "df = get_data(path_to_data)"
   ]
  },
  {
   "cell_type": "markdown",
   "id": "82e43e5b",
   "metadata": {},
   "source": [
    "At this point, we can begin cleaning, EDA, and feature engineering. Let's look for:\n",
    "### Cleaning \n",
    "1. Missing values, zeroes, and NaNs.\n",
    "2. Outliers or values outside of 3 sigma.\n",
    "3. Type errors, encoding errors, etc.\n",
    "4. Duplicates, if any.\n",
    "\n",
    "### EDA\n",
    "1. Correlational matrix (which features best predict the label?).\n",
    "2. Is there skew or kurtosis in the feature distribution?\n",
    "3. Understanding features holistically (what does 'skin thickness' or 'pedigree' mean?).\n",
    "\n",
    "### Feature Engineering\n",
    "1. Imputation of missing values, zeroes, NaNs.   \n",
    "    a. Median method.  \n",
    "    b. KNN cluster analysis method.\n",
    "2. Creation of new, derivative features.\n",
    "    a. Branch the dataset at this point so that one can be used for an ANN and the other for ensemble.\n",
    "3. Scaling, capping, etc."
   ]
  },
  {
   "cell_type": "code",
   "execution_count": 73,
   "id": "583b3ff9",
   "metadata": {},
   "outputs": [],
   "source": [
    "def zeroes_exist(dataframe) -> bool:\n",
    "    # Check if zeroes in either flt or int form exist. Prints type of zero and returns boolean.\n",
    "    if 0 in dataframe.values or 0.0 in dataframe.values:\n",
    "        if 0 in dataframe.values:\n",
    "            print(\"Int-type 0 found in dataset\")\n",
    "            return True\n",
    "        else:\n",
    "            print(\"Float-type 0.0 found in dataset\")\n",
    "            return True\n",
    "    else:\n",
    "        return False"
   ]
  },
  {
   "cell_type": "code",
   "execution_count": 74,
   "id": "21bccec6",
   "metadata": {},
   "outputs": [],
   "source": [
    "def NaNs_exist(dataframe) -> bool:\n",
    "    return dataframe.isnull().values.any()"
   ]
  },
  {
   "cell_type": "code",
   "execution_count": 75,
   "id": "a70dd38d",
   "metadata": {},
   "outputs": [],
   "source": [
    "def count_zeroes(dataframe, column_header) -> int:\n",
    "    # Takes in a dataframe and a column name and returns number of zeroes (float and int)\n",
    "    if 0 in dataframe[column_header].values: # If it has no zeroes\n",
    "        count = dataframe[column_header].value_counts()[0]\n",
    "        return count\n",
    "    else:\n",
    "        return 0\n",
    "        \n",
    "        "
   ]
  },
  {
   "cell_type": "code",
   "execution_count": 76,
   "id": "6ddb92f8",
   "metadata": {},
   "outputs": [],
   "source": [
    "def summarize_zeroes(dataframe) -> dict:\n",
    "    # Takes in a dataframe and returns a dict that maps feature names to number of missing values.\n",
    "    zeroes_dict = {}\n",
    "    for header in dataframe.columns:\n",
    "        num_zeroes = count_zeroes(dataframe, header)\n",
    "        zeroes_dict[header] = num_zeroes\n",
    "    return zeroes_dict"
   ]
  },
  {
   "cell_type": "code",
   "execution_count": 77,
   "id": "4bc7a2ef",
   "metadata": {},
   "outputs": [
    {
     "data": {
      "text/html": [
       "<div>\n",
       "<style scoped>\n",
       "    .dataframe tbody tr th:only-of-type {\n",
       "        vertical-align: middle;\n",
       "    }\n",
       "\n",
       "    .dataframe tbody tr th {\n",
       "        vertical-align: top;\n",
       "    }\n",
       "\n",
       "    .dataframe thead th {\n",
       "        text-align: right;\n",
       "    }\n",
       "</style>\n",
       "<table border=\"1\" class=\"dataframe\">\n",
       "  <thead>\n",
       "    <tr style=\"text-align: right;\">\n",
       "      <th></th>\n",
       "      <th>Pregnancies</th>\n",
       "      <th>Glucose</th>\n",
       "      <th>BloodPressure</th>\n",
       "      <th>SkinThickness</th>\n",
       "      <th>Insulin</th>\n",
       "      <th>BMI</th>\n",
       "      <th>DiabetesPedigreeFunction</th>\n",
       "      <th>Age</th>\n",
       "      <th>Outcome</th>\n",
       "    </tr>\n",
       "  </thead>\n",
       "  <tbody>\n",
       "    <tr>\n",
       "      <th>0</th>\n",
       "      <td>6</td>\n",
       "      <td>148</td>\n",
       "      <td>72</td>\n",
       "      <td>35</td>\n",
       "      <td>0</td>\n",
       "      <td>33.6</td>\n",
       "      <td>0.627</td>\n",
       "      <td>50</td>\n",
       "      <td>1</td>\n",
       "    </tr>\n",
       "    <tr>\n",
       "      <th>1</th>\n",
       "      <td>1</td>\n",
       "      <td>85</td>\n",
       "      <td>66</td>\n",
       "      <td>29</td>\n",
       "      <td>0</td>\n",
       "      <td>26.6</td>\n",
       "      <td>0.351</td>\n",
       "      <td>31</td>\n",
       "      <td>0</td>\n",
       "    </tr>\n",
       "    <tr>\n",
       "      <th>2</th>\n",
       "      <td>8</td>\n",
       "      <td>183</td>\n",
       "      <td>64</td>\n",
       "      <td>0</td>\n",
       "      <td>0</td>\n",
       "      <td>23.3</td>\n",
       "      <td>0.672</td>\n",
       "      <td>32</td>\n",
       "      <td>1</td>\n",
       "    </tr>\n",
       "    <tr>\n",
       "      <th>3</th>\n",
       "      <td>1</td>\n",
       "      <td>89</td>\n",
       "      <td>66</td>\n",
       "      <td>23</td>\n",
       "      <td>94</td>\n",
       "      <td>28.1</td>\n",
       "      <td>0.167</td>\n",
       "      <td>21</td>\n",
       "      <td>0</td>\n",
       "    </tr>\n",
       "    <tr>\n",
       "      <th>4</th>\n",
       "      <td>0</td>\n",
       "      <td>137</td>\n",
       "      <td>40</td>\n",
       "      <td>35</td>\n",
       "      <td>168</td>\n",
       "      <td>43.1</td>\n",
       "      <td>2.288</td>\n",
       "      <td>33</td>\n",
       "      <td>1</td>\n",
       "    </tr>\n",
       "  </tbody>\n",
       "</table>\n",
       "</div>"
      ],
      "text/plain": [
       "   Pregnancies  Glucose  BloodPressure  SkinThickness  Insulin   BMI  \\\n",
       "0            6      148             72             35        0  33.6   \n",
       "1            1       85             66             29        0  26.6   \n",
       "2            8      183             64              0        0  23.3   \n",
       "3            1       89             66             23       94  28.1   \n",
       "4            0      137             40             35      168  43.1   \n",
       "\n",
       "   DiabetesPedigreeFunction  Age  Outcome  \n",
       "0                     0.627   50        1  \n",
       "1                     0.351   31        0  \n",
       "2                     0.672   32        1  \n",
       "3                     0.167   21        0  \n",
       "4                     2.288   33        1  "
      ]
     },
     "execution_count": 77,
     "metadata": {},
     "output_type": "execute_result"
    }
   ],
   "source": [
    "df.head()"
   ]
  }
 ],
 "metadata": {
  "kernelspec": {
   "display_name": "Python 3 (ipykernel)",
   "language": "python",
   "name": "python3"
  },
  "language_info": {
   "codemirror_mode": {
    "name": "ipython",
    "version": 3
   },
   "file_extension": ".py",
   "mimetype": "text/x-python",
   "name": "python",
   "nbconvert_exporter": "python",
   "pygments_lexer": "ipython3",
   "version": "3.9.7"
  }
 },
 "nbformat": 4,
 "nbformat_minor": 5
}
