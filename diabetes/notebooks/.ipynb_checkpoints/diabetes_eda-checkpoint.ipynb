{
 "cells": [
  {
   "cell_type": "markdown",
   "id": "22cb7cd3",
   "metadata": {},
   "source": [
    "All of our necessary imports go here, with optional aliases."
   ]
  },
  {
   "cell_type": "code",
   "execution_count": 1,
   "id": "a2971844",
   "metadata": {},
   "outputs": [],
   "source": [
    "import pandas as pd"
   ]
  },
  {
   "cell_type": "markdown",
   "id": "5732cb54",
   "metadata": {},
   "source": [
    "Local variables can be defined here."
   ]
  },
  {
   "cell_type": "code",
   "execution_count": 2,
   "id": "11408153",
   "metadata": {},
   "outputs": [],
   "source": [
    "path_to_data: str = '../data/raw/diabetes.csv'"
   ]
  },
  {
   "cell_type": "code",
   "execution_count": 3,
   "id": "463c6204",
   "metadata": {},
   "outputs": [],
   "source": [
    "def get_data(path_to_data):\n",
    "    \"\"\"Docstring\"\"\"\n",
    "    \n",
    "    df = pd.read_csv(path_to_data)\n",
    "    return df"
   ]
  },
  {
   "cell_type": "code",
   "execution_count": 5,
   "id": "9294425c",
   "metadata": {},
   "outputs": [],
   "source": [
    "df = get_data(path_to_data)"
   ]
  },
  {
   "cell_type": "markdown",
   "id": "82e43e5b",
   "metadata": {},
   "source": [
    "At this point, we can begin cleaning, EDA, and feature engineering. Let's look for:\n",
    "### Cleaning \n",
    "1. Missing values, zeroes, and NaNs.\n",
    "2. Outliers or values outside of 3 sigma.\n",
    "3. Type errors, encoding errors, etc.\n",
    "4. Duplicates, if any.\n",
    "\n",
    "### EDA\n",
    "1. Correlational matrix (which features best predict the label?).\n",
    "2. Is there skew or kurtosis in the feature distribution?\n",
    "3. Understanding features holistically (what does 'skin thickness' or 'pedigree' mean?).\n",
    "\n",
    "### Feature Engineering\n",
    "1. Imputation of missing values, zeroes, NaNs. \n",
    "    a. Median method.\n",
    "    b. KNN cluster analysis method.\n",
    "2. Creation of new, derivative features.\n",
    "    a. Branch the dataset at this point so that one can be used for an ANN and the other for ensemble.\n",
    "3. Scaling, capping, etc."
   ]
  }
 ],
 "metadata": {
  "kernelspec": {
   "display_name": "Python 3 (ipykernel)",
   "language": "python",
   "name": "python3"
  },
  "language_info": {
   "codemirror_mode": {
    "name": "ipython",
    "version": 3
   },
   "file_extension": ".py",
   "mimetype": "text/x-python",
   "name": "python",
   "nbconvert_exporter": "python",
   "pygments_lexer": "ipython3",
   "version": "3.9.7"
  }
 },
 "nbformat": 4,
 "nbformat_minor": 5
}
